{
 "cells": [
  {
   "cell_type": "code",
   "execution_count": null,
   "id": "227d6ae1",
   "metadata": {},
   "outputs": [],
   "source": [
    "1+1"
   ]
  },
  {
   "cell_type": "code",
   "execution_count": null,
   "id": "41fb5474",
   "metadata": {},
   "outputs": [],
   "source": [
    "print(4*2)"
   ]
  },
  {
   "cell_type": "code",
   "execution_count": null,
   "id": "7c4f8472",
   "metadata": {},
   "outputs": [],
   "source": []
  },
  {
   "cell_type": "markdown",
   "id": "6c84f4eb",
   "metadata": {},
   "source": [
    "#my title"
   ]
  },
  {
   "cell_type": "markdown",
   "id": "8542ca83",
   "metadata": {},
   "source": [
    "#mY"
   ]
  },
  {
   "cell_type": "markdown",
   "id": "a82c7e8b",
   "metadata": {},
   "source": [
    "# my title"
   ]
  },
  {
   "cell_type": "code",
   "execution_count": null,
   "id": "c58f1e1c",
   "metadata": {},
   "outputs": [],
   "source": [
    "b"
   ]
  },
  {
   "cell_type": "markdown",
   "id": "6300aa75",
   "metadata": {},
   "source": [
    "gfdgfd"
   ]
  },
  {
   "cell_type": "code",
   "execution_count": null,
   "id": "8e423ab8",
   "metadata": {},
   "outputs": [],
   "source": [
    "cls"
   ]
  },
  {
   "cell_type": "code",
   "execution_count": null,
   "id": "9c0a6d9c",
   "metadata": {},
   "outputs": [],
   "source": [
    "clear"
   ]
  },
  {
   "cell_type": "code",
   "execution_count": 3,
   "id": "71bc2a23",
   "metadata": {},
   "outputs": [],
   "source": [
    "import pandas as pd"
   ]
  },
  {
   "cell_type": "code",
   "execution_count": 4,
   "id": "b881fe83",
   "metadata": {},
   "outputs": [],
   "source": [
    "import numpy as np"
   ]
  },
  {
   "cell_type": "code",
   "execution_count": 5,
   "id": "7c52006b",
   "metadata": {},
   "outputs": [],
   "source": [
    "import seaborn as sns"
   ]
  },
  {
   "cell_type": "code",
   "execution_count": 7,
   "id": "be21288c",
   "metadata": {},
   "outputs": [],
   "source": [
    "import matplotlib.pyplot as plt"
   ]
  },
  {
   "cell_type": "code",
   "execution_count": 8,
   "id": "429b79ff",
   "metadata": {},
   "outputs": [],
   "source": [
    "%matplotlib inline"
   ]
  },
  {
   "cell_type": "code",
   "execution_count": 9,
   "id": "ca9ffcb1",
   "metadata": {},
   "outputs": [],
   "source": [
    "sns.set(color_codes=True)"
   ]
  },
  {
   "cell_type": "code",
   "execution_count": 10,
   "id": "7215a52e",
   "metadata": {},
   "outputs": [],
   "source": [
    "dt = pd.read_csv(\"data.csv\")"
   ]
  },
  {
   "cell_type": "code",
   "execution_count": 14,
   "id": "71a16e8c",
   "metadata": {},
   "outputs": [
    {
     "data": {
      "text/html": [
       "<div>\n",
       "<style scoped>\n",
       "    .dataframe tbody tr th:only-of-type {\n",
       "        vertical-align: middle;\n",
       "    }\n",
       "\n",
       "    .dataframe tbody tr th {\n",
       "        vertical-align: top;\n",
       "    }\n",
       "\n",
       "    .dataframe thead th {\n",
       "        text-align: right;\n",
       "    }\n",
       "</style>\n",
       "<table border=\"1\" class=\"dataframe\">\n",
       "  <thead>\n",
       "    <tr style=\"text-align: right;\">\n",
       "      <th></th>\n",
       "      <th>Stone No</th>\n",
       "      <th>Image link</th>\n",
       "      <th>Video Link</th>\n",
       "      <th>Video</th>\n",
       "      <th>Lab</th>\n",
       "      <th>Report No</th>\n",
       "      <th>Shape</th>\n",
       "      <th>Carats</th>\n",
       "      <th>Color</th>\n",
       "      <th>Clarity</th>\n",
       "      <th>...</th>\n",
       "      <th>Pav Angle</th>\n",
       "      <th>Pav Height</th>\n",
       "      <th>Key To Symbols</th>\n",
       "      <th>lower Half</th>\n",
       "      <th>Girdle Thickness</th>\n",
       "      <th>Girdle Size</th>\n",
       "      <th>Ratio</th>\n",
       "      <th>Natts</th>\n",
       "      <th>HNA</th>\n",
       "      <th>Comment</th>\n",
       "    </tr>\n",
       "  </thead>\n",
       "  <tbody>\n",
       "    <tr>\n",
       "      <th>0</th>\n",
       "      <td>AQX-306</td>\n",
       "      <td>https://diamdna.com/imaged/aqx-306/still.jpg</td>\n",
       "      <td>https://diamdna.com/Vision360.html?d=aqx-306&amp;s...</td>\n",
       "      <td>https://diamdna.com/imaged/aqx-306/video.mp4</td>\n",
       "      <td>GIA</td>\n",
       "      <td>2427898614</td>\n",
       "      <td>RBC</td>\n",
       "      <td>0.18</td>\n",
       "      <td>D</td>\n",
       "      <td>IF</td>\n",
       "      <td>...</td>\n",
       "      <td>41.0</td>\n",
       "      <td>43.5</td>\n",
       "      <td>Minor Details of Polish</td>\n",
       "      <td>80%</td>\n",
       "      <td>MED to STK</td>\n",
       "      <td>3.50%</td>\n",
       "      <td>1.01</td>\n",
       "      <td>BT0-BC0</td>\n",
       "      <td>NO</td>\n",
       "      <td>NO BROWN NO MILKY</td>\n",
       "    </tr>\n",
       "    <tr>\n",
       "      <th>1</th>\n",
       "      <td>AQX-303</td>\n",
       "      <td>https://diamdna.com/imaged/aqx-303/still.jpg</td>\n",
       "      <td>https://diamdna.com/Vision360.html?d=aqx-303&amp;s...</td>\n",
       "      <td>https://diamdna.com/imaged/aqx-303/video.mp4</td>\n",
       "      <td>GIA</td>\n",
       "      <td>7426663248</td>\n",
       "      <td>RBC</td>\n",
       "      <td>0.18</td>\n",
       "      <td>D</td>\n",
       "      <td>IF</td>\n",
       "      <td>...</td>\n",
       "      <td>41.2</td>\n",
       "      <td>43.5</td>\n",
       "      <td>Minor Details of Polish</td>\n",
       "      <td>70%</td>\n",
       "      <td>MED</td>\n",
       "      <td>3.50%</td>\n",
       "      <td>1.01</td>\n",
       "      <td>BT0-BC0</td>\n",
       "      <td>NO</td>\n",
       "      <td>NO BROWN NO MILKY</td>\n",
       "    </tr>\n",
       "    <tr>\n",
       "      <th>2</th>\n",
       "      <td>APU-52</td>\n",
       "      <td>https://diamdna.com/imaged/apu-52/still.jpg</td>\n",
       "      <td>https://diamdna.com/Vision360.html?d=apu-52&amp;sr...</td>\n",
       "      <td>https://diamdna.com/imaged/apu-52/video.mp4</td>\n",
       "      <td>GIA</td>\n",
       "      <td>1413896459</td>\n",
       "      <td>RBC</td>\n",
       "      <td>0.18</td>\n",
       "      <td>D</td>\n",
       "      <td>VVS1</td>\n",
       "      <td>...</td>\n",
       "      <td>41.0</td>\n",
       "      <td>43.5</td>\n",
       "      <td>Pinpoint, Feather, Indented Natural</td>\n",
       "      <td>75%</td>\n",
       "      <td>MED to STK</td>\n",
       "      <td>3.00%</td>\n",
       "      <td>1.01</td>\n",
       "      <td>BT0-BC0</td>\n",
       "      <td>100</td>\n",
       "      <td>NO BROWN NO MILKY</td>\n",
       "    </tr>\n",
       "    <tr>\n",
       "      <th>3</th>\n",
       "      <td>JI-124</td>\n",
       "      <td>https://diamdna.com/imaged/ji-124/still.jpg</td>\n",
       "      <td>https://diamdna.com/Vision360.html?d=ji-124&amp;sr...</td>\n",
       "      <td>https://diamdna.com/imaged/ji-124/video.mp4</td>\n",
       "      <td>GIA</td>\n",
       "      <td>7421940458</td>\n",
       "      <td>RBC</td>\n",
       "      <td>0.21</td>\n",
       "      <td>D</td>\n",
       "      <td>VVS1</td>\n",
       "      <td>...</td>\n",
       "      <td>41.4</td>\n",
       "      <td>44.0</td>\n",
       "      <td>Pinpoint</td>\n",
       "      <td>75%</td>\n",
       "      <td>MED to STK</td>\n",
       "      <td>4.00%</td>\n",
       "      <td>1.01</td>\n",
       "      <td>BT0-BC0</td>\n",
       "      <td>100</td>\n",
       "      <td>NO BROWN NO MILKY</td>\n",
       "    </tr>\n",
       "    <tr>\n",
       "      <th>4</th>\n",
       "      <td>AQK-143</td>\n",
       "      <td>https://diamdna.com/imaged/aqk-143/still.jpg</td>\n",
       "      <td>https://diamdna.com/Vision360.html?d=aqk-143&amp;s...</td>\n",
       "      <td>https://diamdna.com/imaged/aqk-143/video.mp4</td>\n",
       "      <td>GIA</td>\n",
       "      <td>6421346995</td>\n",
       "      <td>RBC</td>\n",
       "      <td>0.21</td>\n",
       "      <td>D</td>\n",
       "      <td>VVS1</td>\n",
       "      <td>...</td>\n",
       "      <td>41.0</td>\n",
       "      <td>43.0</td>\n",
       "      <td>Internal Graining, Pinpoint</td>\n",
       "      <td>80%</td>\n",
       "      <td>THN to MED</td>\n",
       "      <td>3.00%</td>\n",
       "      <td>1.01</td>\n",
       "      <td>BT0-BC0</td>\n",
       "      <td>100</td>\n",
       "      <td>NO BROWN NO MILKY</td>\n",
       "    </tr>\n",
       "  </tbody>\n",
       "</table>\n",
       "<p>5 rows × 34 columns</p>\n",
       "</div>"
      ],
      "text/plain": [
       "  Stone No                                    Image link  \\\n",
       "0  AQX-306  https://diamdna.com/imaged/aqx-306/still.jpg   \n",
       "1  AQX-303  https://diamdna.com/imaged/aqx-303/still.jpg   \n",
       "2   APU-52   https://diamdna.com/imaged/apu-52/still.jpg   \n",
       "3   JI-124   https://diamdna.com/imaged/ji-124/still.jpg   \n",
       "4  AQK-143  https://diamdna.com/imaged/aqk-143/still.jpg   \n",
       "\n",
       "                                          Video Link  \\\n",
       "0  https://diamdna.com/Vision360.html?d=aqx-306&s...   \n",
       "1  https://diamdna.com/Vision360.html?d=aqx-303&s...   \n",
       "2  https://diamdna.com/Vision360.html?d=apu-52&sr...   \n",
       "3  https://diamdna.com/Vision360.html?d=ji-124&sr...   \n",
       "4  https://diamdna.com/Vision360.html?d=aqk-143&s...   \n",
       "\n",
       "                                          Video  Lab   Report No Shape  \\\n",
       "0  https://diamdna.com/imaged/aqx-306/video.mp4  GIA  2427898614   RBC   \n",
       "1  https://diamdna.com/imaged/aqx-303/video.mp4  GIA  7426663248   RBC   \n",
       "2   https://diamdna.com/imaged/apu-52/video.mp4  GIA  1413896459   RBC   \n",
       "3   https://diamdna.com/imaged/ji-124/video.mp4  GIA  7421940458   RBC   \n",
       "4  https://diamdna.com/imaged/aqk-143/video.mp4  GIA  6421346995   RBC   \n",
       "\n",
       "   Carats Color Clarity  ...  Pav Angle  Pav Height  \\\n",
       "0    0.18     D      IF  ...       41.0        43.5   \n",
       "1    0.18     D      IF  ...       41.2        43.5   \n",
       "2    0.18     D    VVS1  ...       41.0        43.5   \n",
       "3    0.21     D    VVS1  ...       41.4        44.0   \n",
       "4    0.21     D    VVS1  ...       41.0        43.0   \n",
       "\n",
       "                        Key To Symbols  lower Half  Girdle Thickness  \\\n",
       "0              Minor Details of Polish         80%        MED to STK   \n",
       "1              Minor Details of Polish         70%               MED   \n",
       "2  Pinpoint, Feather, Indented Natural         75%        MED to STK   \n",
       "3                             Pinpoint         75%        MED to STK   \n",
       "4          Internal Graining, Pinpoint         80%        THN to MED   \n",
       "\n",
       "  Girdle Size Ratio    Natts  HNA            Comment  \n",
       "0       3.50%  1.01  BT0-BC0   NO  NO BROWN NO MILKY  \n",
       "1       3.50%  1.01  BT0-BC0   NO  NO BROWN NO MILKY  \n",
       "2       3.00%  1.01  BT0-BC0  100  NO BROWN NO MILKY  \n",
       "3       4.00%  1.01  BT0-BC0  100  NO BROWN NO MILKY  \n",
       "4       3.00%  1.01  BT0-BC0  100  NO BROWN NO MILKY  \n",
       "\n",
       "[5 rows x 34 columns]"
      ]
     },
     "execution_count": 14,
     "metadata": {},
     "output_type": "execute_result"
    }
   ],
   "source": [
    "dt.head(5)"
   ]
  },
  {
   "cell_type": "code",
   "execution_count": 15,
   "id": "7a79ec3a",
   "metadata": {},
   "outputs": [],
   "source": [
    "dt = dt.drop([\"Image link\",\"Video Link\"],axis=1)"
   ]
  },
  {
   "cell_type": "code",
   "execution_count": 16,
   "id": "e90287c5",
   "metadata": {},
   "outputs": [
    {
     "data": {
      "text/html": [
       "<div>\n",
       "<style scoped>\n",
       "    .dataframe tbody tr th:only-of-type {\n",
       "        vertical-align: middle;\n",
       "    }\n",
       "\n",
       "    .dataframe tbody tr th {\n",
       "        vertical-align: top;\n",
       "    }\n",
       "\n",
       "    .dataframe thead th {\n",
       "        text-align: right;\n",
       "    }\n",
       "</style>\n",
       "<table border=\"1\" class=\"dataframe\">\n",
       "  <thead>\n",
       "    <tr style=\"text-align: right;\">\n",
       "      <th></th>\n",
       "      <th>Stone No</th>\n",
       "      <th>Video</th>\n",
       "      <th>Lab</th>\n",
       "      <th>Report No</th>\n",
       "      <th>Shape</th>\n",
       "      <th>Carats</th>\n",
       "      <th>Color</th>\n",
       "      <th>Clarity</th>\n",
       "      <th>Rap</th>\n",
       "      <th>value</th>\n",
       "      <th>...</th>\n",
       "      <th>Pav Angle</th>\n",
       "      <th>Pav Height</th>\n",
       "      <th>Key To Symbols</th>\n",
       "      <th>lower Half</th>\n",
       "      <th>Girdle Thickness</th>\n",
       "      <th>Girdle Size</th>\n",
       "      <th>Ratio</th>\n",
       "      <th>Natts</th>\n",
       "      <th>HNA</th>\n",
       "      <th>Comment</th>\n",
       "    </tr>\n",
       "  </thead>\n",
       "  <tbody>\n",
       "    <tr>\n",
       "      <th>0</th>\n",
       "      <td>AQX-306</td>\n",
       "      <td>https://diamdna.com/imaged/aqx-306/video.mp4</td>\n",
       "      <td>GIA</td>\n",
       "      <td>2427898614</td>\n",
       "      <td>RBC</td>\n",
       "      <td>0.18</td>\n",
       "      <td>D</td>\n",
       "      <td>IF</td>\n",
       "      <td>1510</td>\n",
       "      <td>271.8</td>\n",
       "      <td>...</td>\n",
       "      <td>41.0</td>\n",
       "      <td>43.5</td>\n",
       "      <td>Minor Details of Polish</td>\n",
       "      <td>80%</td>\n",
       "      <td>MED to STK</td>\n",
       "      <td>3.50%</td>\n",
       "      <td>1.01</td>\n",
       "      <td>BT0-BC0</td>\n",
       "      <td>NO</td>\n",
       "      <td>NO BROWN NO MILKY</td>\n",
       "    </tr>\n",
       "    <tr>\n",
       "      <th>1</th>\n",
       "      <td>AQX-303</td>\n",
       "      <td>https://diamdna.com/imaged/aqx-303/video.mp4</td>\n",
       "      <td>GIA</td>\n",
       "      <td>7426663248</td>\n",
       "      <td>RBC</td>\n",
       "      <td>0.18</td>\n",
       "      <td>D</td>\n",
       "      <td>IF</td>\n",
       "      <td>1510</td>\n",
       "      <td>271.8</td>\n",
       "      <td>...</td>\n",
       "      <td>41.2</td>\n",
       "      <td>43.5</td>\n",
       "      <td>Minor Details of Polish</td>\n",
       "      <td>70%</td>\n",
       "      <td>MED</td>\n",
       "      <td>3.50%</td>\n",
       "      <td>1.01</td>\n",
       "      <td>BT0-BC0</td>\n",
       "      <td>NO</td>\n",
       "      <td>NO BROWN NO MILKY</td>\n",
       "    </tr>\n",
       "    <tr>\n",
       "      <th>2</th>\n",
       "      <td>APU-52</td>\n",
       "      <td>https://diamdna.com/imaged/apu-52/video.mp4</td>\n",
       "      <td>GIA</td>\n",
       "      <td>1413896459</td>\n",
       "      <td>RBC</td>\n",
       "      <td>0.18</td>\n",
       "      <td>D</td>\n",
       "      <td>VVS1</td>\n",
       "      <td>1510</td>\n",
       "      <td>271.8</td>\n",
       "      <td>...</td>\n",
       "      <td>41.0</td>\n",
       "      <td>43.5</td>\n",
       "      <td>Pinpoint, Feather, Indented Natural</td>\n",
       "      <td>75%</td>\n",
       "      <td>MED to STK</td>\n",
       "      <td>3.00%</td>\n",
       "      <td>1.01</td>\n",
       "      <td>BT0-BC0</td>\n",
       "      <td>100</td>\n",
       "      <td>NO BROWN NO MILKY</td>\n",
       "    </tr>\n",
       "    <tr>\n",
       "      <th>3</th>\n",
       "      <td>JI-124</td>\n",
       "      <td>https://diamdna.com/imaged/ji-124/video.mp4</td>\n",
       "      <td>GIA</td>\n",
       "      <td>7421940458</td>\n",
       "      <td>RBC</td>\n",
       "      <td>0.21</td>\n",
       "      <td>D</td>\n",
       "      <td>VVS1</td>\n",
       "      <td>1510</td>\n",
       "      <td>317.1</td>\n",
       "      <td>...</td>\n",
       "      <td>41.4</td>\n",
       "      <td>44.0</td>\n",
       "      <td>Pinpoint</td>\n",
       "      <td>75%</td>\n",
       "      <td>MED to STK</td>\n",
       "      <td>4.00%</td>\n",
       "      <td>1.01</td>\n",
       "      <td>BT0-BC0</td>\n",
       "      <td>100</td>\n",
       "      <td>NO BROWN NO MILKY</td>\n",
       "    </tr>\n",
       "    <tr>\n",
       "      <th>4</th>\n",
       "      <td>AQK-143</td>\n",
       "      <td>https://diamdna.com/imaged/aqk-143/video.mp4</td>\n",
       "      <td>GIA</td>\n",
       "      <td>6421346995</td>\n",
       "      <td>RBC</td>\n",
       "      <td>0.21</td>\n",
       "      <td>D</td>\n",
       "      <td>VVS1</td>\n",
       "      <td>1510</td>\n",
       "      <td>317.1</td>\n",
       "      <td>...</td>\n",
       "      <td>41.0</td>\n",
       "      <td>43.0</td>\n",
       "      <td>Internal Graining, Pinpoint</td>\n",
       "      <td>80%</td>\n",
       "      <td>THN to MED</td>\n",
       "      <td>3.00%</td>\n",
       "      <td>1.01</td>\n",
       "      <td>BT0-BC0</td>\n",
       "      <td>100</td>\n",
       "      <td>NO BROWN NO MILKY</td>\n",
       "    </tr>\n",
       "  </tbody>\n",
       "</table>\n",
       "<p>5 rows × 32 columns</p>\n",
       "</div>"
      ],
      "text/plain": [
       "  Stone No                                         Video  Lab   Report No  \\\n",
       "0  AQX-306  https://diamdna.com/imaged/aqx-306/video.mp4  GIA  2427898614   \n",
       "1  AQX-303  https://diamdna.com/imaged/aqx-303/video.mp4  GIA  7426663248   \n",
       "2   APU-52   https://diamdna.com/imaged/apu-52/video.mp4  GIA  1413896459   \n",
       "3   JI-124   https://diamdna.com/imaged/ji-124/video.mp4  GIA  7421940458   \n",
       "4  AQK-143  https://diamdna.com/imaged/aqk-143/video.mp4  GIA  6421346995   \n",
       "\n",
       "  Shape  Carats Color Clarity   Rap  value  ...  Pav Angle  Pav Height  \\\n",
       "0   RBC    0.18     D      IF  1510  271.8  ...       41.0        43.5   \n",
       "1   RBC    0.18     D      IF  1510  271.8  ...       41.2        43.5   \n",
       "2   RBC    0.18     D    VVS1  1510  271.8  ...       41.0        43.5   \n",
       "3   RBC    0.21     D    VVS1  1510  317.1  ...       41.4        44.0   \n",
       "4   RBC    0.21     D    VVS1  1510  317.1  ...       41.0        43.0   \n",
       "\n",
       "                        Key To Symbols lower Half Girdle Thickness  \\\n",
       "0              Minor Details of Polish        80%       MED to STK   \n",
       "1              Minor Details of Polish        70%              MED   \n",
       "2  Pinpoint, Feather, Indented Natural        75%       MED to STK   \n",
       "3                             Pinpoint        75%       MED to STK   \n",
       "4          Internal Graining, Pinpoint        80%       THN to MED   \n",
       "\n",
       "  Girdle Size Ratio    Natts  HNA            Comment  \n",
       "0       3.50%  1.01  BT0-BC0   NO  NO BROWN NO MILKY  \n",
       "1       3.50%  1.01  BT0-BC0   NO  NO BROWN NO MILKY  \n",
       "2       3.00%  1.01  BT0-BC0  100  NO BROWN NO MILKY  \n",
       "3       4.00%  1.01  BT0-BC0  100  NO BROWN NO MILKY  \n",
       "4       3.00%  1.01  BT0-BC0  100  NO BROWN NO MILKY  \n",
       "\n",
       "[5 rows x 32 columns]"
      ]
     },
     "execution_count": 16,
     "metadata": {},
     "output_type": "execute_result"
    }
   ],
   "source": [
    "dt.head(5)"
   ]
  },
  {
   "cell_type": "code",
   "execution_count": 17,
   "id": "3c9815e9",
   "metadata": {},
   "outputs": [],
   "source": [
    "dt = dt.rename(columns={\"Video\":\"Video Link\"})"
   ]
  },
  {
   "cell_type": "code",
   "execution_count": 20,
   "id": "f66eacd6",
   "metadata": {},
   "outputs": [
    {
     "data": {
      "text/plain": [
       "(25, 32)"
      ]
     },
     "execution_count": 20,
     "metadata": {},
     "output_type": "execute_result"
    }
   ],
   "source": [
    "dt.shape"
   ]
  },
  {
   "cell_type": "code",
   "execution_count": 21,
   "id": "3d807e17",
   "metadata": {},
   "outputs": [
    {
     "name": "stdout",
     "output_type": "stream",
     "text": [
      "(0, 32)\n"
     ]
    }
   ],
   "source": [
    "dup_rows = dt[dt.duplicated()]\n",
    "print(dup_rows.shape)"
   ]
  },
  {
   "cell_type": "code",
   "execution_count": 24,
   "id": "8b8907f0",
   "metadata": {},
   "outputs": [
    {
     "name": "stdout",
     "output_type": "stream",
     "text": [
      "Stone No            0\n",
      "Video Link          0\n",
      "Lab                 0\n",
      "Report No           0\n",
      "Shape               0\n",
      "Carats              0\n",
      "Color               0\n",
      "Clarity             0\n",
      "Rap                 0\n",
      "value               0\n",
      "Disc %              0\n",
      "Price/Ct            0\n",
      "Amount              0\n",
      "Cut                 0\n",
      "Polish              0\n",
      "Sym                 0\n",
      "Flour               0\n",
      "Measurement         0\n",
      "Table %             0\n",
      "Depth %             0\n",
      "Crown Angle         0\n",
      "Crown Height        0\n",
      "Pav Angle           0\n",
      "Pav Height          0\n",
      "Key To Symbols      0\n",
      "lower Half          0\n",
      "Girdle Thickness    0\n",
      "Girdle Size         0\n",
      "Ratio               0\n",
      "Natts               0\n",
      "HNA                 0\n",
      "Comment             0\n",
      "dtype: int64\n"
     ]
    }
   ],
   "source": [
    "print(dt.isnull().sum())"
   ]
  },
  {
   "cell_type": "code",
   "execution_count": 34,
   "id": "227bf2f3",
   "metadata": {},
   "outputs": [
    {
     "data": {
      "image/png": "[encoded data removed]",
      "text/plain": [
       "<Figure size 2160x432 with 1 Axes>"
      ]
     },
     "metadata": {},
     "output_type": "display_data"
    }
   ],
   "source": [
    "fig, ax = plt.subplots(figsize=(30,6))\n",
    "ax.scatter(dt['Stone No'], dt['Rap'])\n",
    "ax.set_xlabel('Stone No')\n",
    "ax.set_ylabel('Rap')\n",
    "plt.show()"
   ]
  },
  {
   "cell_type": "code",
   "execution_count": null,
   "id": "dd764bd1",
   "metadata": {},
   "outputs": [],
   "source": []
  }
 ],
 "metadata": {
  "kernelspec": {
   "display_name": "Python 3 (ipykernel)",
   "language": "python",
   "name": "python3"
  },
  "language_info": {
   "codemirror_mode": {
    "name": "ipython",
    "version": 3
   },
   "file_extension": ".py",
   "mimetype": "text/x-python",
   "name": "python",
   "nbconvert_exporter": "python",
   "pygments_lexer": "ipython3",
   "version": "3.9.7"
  }
 },
 "nbformat": 4,
 "nbformat_minor": 5
}
